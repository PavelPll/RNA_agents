{
 "cells": [
  {
   "cell_type": "code",
   "execution_count": 1,
   "id": "986fef39",
   "metadata": {},
   "outputs": [],
   "source": [
    "# LLM React agent–Driven RNA Design via Structural Feedback and RNA Diffusion Model\n",
    "# Do no forget to run container with DRfold2 model\n",
    "\n",
    "import os, sys\n",
    "from importlib import reload\n",
    "sys.path.append(os.path.abspath('../'))\n",
    "sys.path.append(os.path.abspath('../../'))\n",
    "from langchain_anthropic import ChatAnthropic\n",
    "import json \n",
    "import warnings\n",
    "warnings.filterwarnings(\"ignore\", category=FutureWarning, module=\"torch\")\n",
    "\n",
    "# Choose llm model\n",
    "#llm = ChatAnthropic(model=\"claude-3-5-sonnet-20241022\")\n",
    "#llm = ChatAnthropic(model=\"claude-3-haiku-20240307\")\n",
    "#llm = ChatAnthropic(model=\"claude-3-5-haiku-20241022\")\n",
    "#llm = ChatAnthropic(model=\"claude-3-7-sonnet-20250219\")\n",
    "llm = ChatAnthropic(model=\"claude-sonnet-4-20250514\")\n",
    "\n",
    "##https://console.anthropic.com/settings/billing\n",
    "# Open‑source (GLM‑4.5 etc)\n",
    "\n"
   ]
  },
  {
   "cell_type": "code",
   "execution_count": 2,
   "id": "6d75bf6a",
   "metadata": {},
   "outputs": [
    {
     "name": "stderr",
     "output_type": "stream",
     "text": [
      "c:\\Users\\User\\miniconda3\\envs\\rna_agents\\Lib\\site-packages\\tqdm\\auto.py:21: TqdmWarning: IProgress not found. Please update jupyter and ipywidgets. See https://ipywidgets.readthedocs.io/en/stable/user_install.html\n",
      "  from .autonotebook import tqdm as notebook_tqdm\n",
      "c:\\Users\\User\\work\\rna_agent\\RiboDiffusion\\utils.py:16: FutureWarning: You are using `torch.load` with `weights_only=False` (the current default value), which uses the default pickle module implicitly. It is possible to construct malicious pickle data which will execute arbitrary code during unpickling (See https://github.com/pytorch/pytorch/blob/main/SECURITY.md#untrusted-models for more details). In a future release, the default value for `weights_only` will be flipped to `True`. This limits the functions that could be executed during unpickling. Arbitrary objects will no longer be allowed to be loaded via this mode unless they are explicitly allowlisted by the user via `torch.serialization.add_safe_globals`. We recommend you start setting `weights_only=True` for any use case where you don't have full control of the loaded file. Please open an issue on GitHub for any issues related to this experimental feature.\n",
      "  loaded_state = torch.load(ckpt_dir, map_location=device)\n"
     ]
    }
   ],
   "source": [
    "# FASTA file read/write\n",
    "from lib.fasta_utils import read_single_fasta, write_single_fasta\n",
    "\n",
    "# DRfold2 model\n",
    "from lib.lib_drfold import fasta2pdb\n",
    "\n",
    "# Ribodiffusion model\n",
    "from lib.lib_ribodiffusion import Pdb2Fasta\n",
    "pdb2fasta = Pdb2Fasta()"
   ]
  },
  {
   "cell_type": "code",
   "execution_count": 3,
   "id": "f1af7ad0",
   "metadata": {},
   "outputs": [
    {
     "name": "stdout",
     "output_type": "stream",
     "text": [
      "AGAGAGAGAGAGAGAGAGAG\n",
      "GCACCGAUAGUCUAGUGGUAGGACUUAUCCCUGCCUAGGAUAGAGCCCGGGUUCAAAUCCCGGUCGGUGCACCA\n"
     ]
    }
   ],
   "source": [
    "# Define the RNA evolution seed (starting RNA sequence for the simulation)\n",
    "# Define RNA sequences to be used in the analysis\n",
    "\n",
    "import yaml\n",
    "\n",
    "# Open and load the JSON file\n",
    "with open('../configs/rna_rag.yaml', 'r') as f:\n",
    "    config = yaml.safe_load(f)\n",
    "\n",
    "# input_dir = \"../data/processed/rna_evolution_seed/\"\n",
    "# output_dir = \"../data/processed/RNA_reports/\"\n",
    "input_dir = config['input_output']['input_dir']\n",
    "output_dir = config['input_output']['output_dir_ReActAgent']\n",
    "os.makedirs(output_dir, exist_ok=True)\n",
    "# Or recreate folder (delete if exists)\n",
    "# if os.path.exists(folder): shutil.rmtree(folder)\n",
    "# os.makedirs(folder)\n",
    "\n",
    "fasta_file = \"trnaGlycine_Asgard_group_archaeon.fasta\"\n",
    "fasta_file = \"simple_sequence.fasta\"\n",
    "sequence = read_single_fasta(os.path.join(input_dir, fasta_file))[1]\n",
    "\n",
    "simple_sequence = sequence\n",
    "tRNA = \"GCACCGAUAGUCUAGUGGUAGGACUUAUCCCUGCCUAGGAUAGAGCCCGGGUUCAAAUCCCGGUCGGUGCACCA\"\n",
    "print(simple_sequence)\n",
    "print(tRNA)"
   ]
  },
  {
   "cell_type": "code",
   "execution_count": 4,
   "id": "ea73f78c",
   "metadata": {},
   "outputs": [],
   "source": [
    "# Open and load the JSON file\n",
    "with open('../configs/rna_rag.yaml', 'r') as f:\n",
    "    config = yaml.safe_load(f)\n",
    "path = config['input_output']['output_dir_ReActAgent']"
   ]
  },
  {
   "cell_type": "code",
   "execution_count": 5,
   "id": "a3cef2eb",
   "metadata": {},
   "outputs": [
    {
     "data": {
      "text/plain": [
       "'../data/processed/rna_evolution/'"
      ]
     },
     "execution_count": 5,
     "metadata": {},
     "output_type": "execute_result"
    }
   ],
   "source": [
    "config['input_output']['input_dir']\n",
    "config['input_output']['output_dir_ToolAgent']\n",
    "#config['input_output']['output_dir_ReActAgent']"
   ]
  },
  {
   "cell_type": "code",
   "execution_count": 6,
   "id": "f1a9f2e1",
   "metadata": {},
   "outputs": [
    {
     "name": "stderr",
     "output_type": "stream",
     "text": [
      "c:\\Users\\User\\miniconda3\\envs\\rna_agents\\Lib\\site-packages\\Bio\\pairwise2.py:278: BiopythonDeprecationWarning: Bio.pairwise2 has been deprecated, and we intend to remove it in a future release of Biopython. As an alternative, please consider using Bio.Align.PairwiseAligner as a replacement, and contact the Biopython developers if you still need the Bio.pairwise2 module.\n",
      "  warnings.warn(\n"
     ]
    }
   ],
   "source": [
    "# Select tools for ReAct agent\n",
    "\n",
    "import lib.agents.lib_RNAtools\n",
    "reload(lib.agents.lib_RNAtools)\n",
    "\n",
    "from lib.agents.lib_tools import biopython_pubmed_tool, search_tool\n",
    "\n",
    "from lib.agents.lib_RNAtools import get_RNA_2alignment_tool\n",
    "from lib.agents.lib_RNAtools import get_hairpins_tool, get_helices_tool, get_stems_tool\n",
    "from lib.agents.lib_RNAtools import get_dotBracket_length_tool, get_multiplets_tool, get_junctions_tool\n",
    "from lib.agents.lib_RNAtools import get_riboseZippers_tool, get_stacks_tool, get_nonStack_tool\n",
    "from lib.agents.lib_RNAtools import get_numCoaxStacks_tool, get_backfoldedRNAsequence_tool\n",
    "\n",
    "from lib.agents.lib_RNAtools import get_length_pairs_hydrogenBonds_tool\n",
    "\n",
    "tools = [get_RNA_2alignment_tool]\n",
    "tools += [get_hairpins_tool, get_helices_tool, get_stems_tool]\n",
    "tools += [get_dotBracket_length_tool, get_multiplets_tool, get_junctions_tool]\n",
    "tools += [get_riboseZippers_tool, get_stacks_tool, get_nonStack_tool]\n",
    "tools += [get_numCoaxStacks_tool, get_backfoldedRNAsequence_tool]\n",
    "tools += [get_length_pairs_hydrogenBonds_tool]\n",
    "\n",
    "tools += [biopython_pubmed_tool, search_tool]\n",
    "model = llm.bind_tools(tools)"
   ]
  },
  {
   "cell_type": "code",
   "execution_count": 7,
   "id": "5238a599",
   "metadata": {},
   "outputs": [
    {
     "name": "stdout",
     "output_type": "stream",
     "text": [
      "UAGUGGUAG, CCUGCCUAG, GUUCAAAUC\n",
      "helix_0: base_pairs=13, strand_1=GCACCGACCGGGU, strand_2=CGUGGCUGGCCCA, helix_form=AAAAAAxAAAAx\n",
      "helix_1: base_pairs=13, strand_1=CAGGAUAGUCUAG, strand_2=UCCCUAUCAGGUC, helix_form=x.AAAAxAA.xx\n",
      "helix_0: base_pairs=7, strand_1=GCACCGA, strand_2=CGUGGCU, helix_form=AAAAAA\n",
      "helix_1: base_pairs=4, strand_1=GUCU, strand_2=CAGG, helix_form=AA.\n",
      "helix_2: base_pairs=5, strand_1=UAUCC, strand_2=AUAGG, helix_form=AAAA\n",
      "helix_3: base_pairs=5, strand_1=CCGGG, strand_2=GGCCC, helix_form=AAAA\n",
      "2D RNA structure in dot-bracket notation: (((((((..((((.......)))).(((((.......)))))....(((((.......)))))))))))).... RNA length: 74 nucleotides\n",
      "UAC, UGC, ACG, UGG\n",
      "AUAGCUUAGAGCCGU\n",
      "UAAG\n",
      "AC, UU, GC, CA, AC, GU, CUU, CCU, AGA, GUU, CAC, UGAG, CUAG, AGACAU\n",
      "GGUCA\n",
      "2\n",
      "GGUCCGAUGGUGUAGUGGUAUCACACAGCCCUAGGAAGGCUGGCACCCAGGUUCAAAUCCUGGUCGGACCACCA\n",
      "Length: 74 nucleotides, Number of base pairs: 33, Number of hydrogen bonds: 123.\n"
     ]
    }
   ],
   "source": [
    "# Test some tools\n",
    "# it takes some time to calculate 3D structure for the given sequence\n",
    "print(get_hairpins_tool.func(tRNA))\n",
    "print(get_helices_tool.func(tRNA))\n",
    "print(get_stems_tool.func(tRNA))\n",
    "print(get_dotBracket_length_tool.func(tRNA))\n",
    "print(get_multiplets_tool.func(tRNA))\n",
    "print(get_junctions_tool.func(tRNA))\n",
    "print(get_riboseZippers_tool.func(tRNA))\n",
    "print(get_stacks_tool.func(tRNA)) \n",
    "print(get_nonStack_tool.func(tRNA))\n",
    "print(get_numCoaxStacks_tool.func(tRNA))\n",
    "print(get_backfoldedRNAsequence_tool.func(tRNA))\n",
    "print(get_length_pairs_hydrogenBonds_tool.func(tRNA))"
   ]
  },
  {
   "cell_type": "code",
   "execution_count": 8,
   "id": "edf38a12",
   "metadata": {},
   "outputs": [],
   "source": [
    "# Start LangChain Graph construction\n",
    "\n",
    "from typing import Annotated, Sequence, TypedDict\n",
    "# from langchain_core.messages import HumanMessage\n",
    "from langchain_core.messages import BaseMessage, SystemMessage\n",
    "from langgraph.graph.message import add_messages\n",
    "from langgraph.graph import StateGraph, END\n",
    "from langgraph.prebuilt import ToolNode\n",
    "\n",
    "class AgentState(TypedDict): \n",
    "    messages: Annotated[Sequence[BaseMessage], add_messages]\n",
    "    #messages: List[Union[HumanMessage, AIMessage]]\n"
   ]
  },
  {
   "cell_type": "code",
   "execution_count": 9,
   "id": "0ee13b19",
   "metadata": {},
   "outputs": [
    {
     "data": {
      "text/plain": [
       "<langgraph.graph.state.StateGraph at 0x1ecadc48110>"
      ]
     },
     "execution_count": 9,
     "metadata": {},
     "output_type": "execute_result"
    }
   ],
   "source": [
    "# ReAct agent\n",
    "def model_call(state:AgentState) -> AgentState:\n",
    "    content = (\n",
    "        \"You are a research assistant tasked with conducting RNA evolutionary research. \"\n",
    "        \"Your goal is to analyze RNA structures and simulate evolutionary modifications. \"\n",
    "        \"Use the necessary tools when required.\"\n",
    "    )\n",
    "    system_prompt = SystemMessage(content=content)\n",
    "    response = model.invoke([system_prompt]+state[\"messages\"])\n",
    "    return {\"messages\": [response]}\n",
    "\n",
    "# Define nodes    \n",
    "graph = StateGraph(AgentState)\n",
    "graph.add_node(\"our_agent\", model_call)\n",
    "tool_node = ToolNode(tools=tools)\n",
    "graph.add_node(\"tools\", tool_node)"
   ]
  },
  {
   "cell_type": "code",
   "execution_count": 10,
   "id": "df4f30a4",
   "metadata": {},
   "outputs": [],
   "source": [
    "# Set edges\n",
    "graph.set_entry_point(\"our_agent\")\n",
    "def should_continue(state:AgentState):\n",
    "    messages = state[\"messages\"]\n",
    "    last_message = messages[-1]\n",
    "    if not last_message.tool_calls:\n",
    "        return \"end\"\n",
    "    else:\n",
    "        return \"continue\"\n",
    "graph.add_conditional_edges(\n",
    "    \"our_agent\",\n",
    "    should_continue,\n",
    "    {\n",
    "        \"continue\": \"tools\",\n",
    "        \"end\": END,\n",
    "    }\n",
    ")\n",
    "\n",
    "graph.add_edge(\"tools\", \"our_agent\")\n",
    "app = graph.compile()\n",
    "\n",
    "def print_stream(stream):\n",
    "    # Configure proper stdout output\n",
    "    for s in stream:\n",
    "        message = s[\"messages\"][-1]\n",
    "        if isinstance(message, tuple):\n",
    "            print(message)\n",
    "        else:\n",
    "            message.pretty_print()"
   ]
  },
  {
   "cell_type": "code",
   "execution_count": 11,
   "id": "66fcef75",
   "metadata": {},
   "outputs": [
    {
     "name": "stdout",
     "output_type": "stream",
     "text": [
      "AGAGAGAGAGAGAGAGAGAG\n",
      "GCACCGAUAGUCUAGUGGUAGGACUUAUCCCUGCCUAGGAUAGAGCCCGGGUUCAAAUCCCGGUCGGUGCACCA\n"
     ]
    }
   ],
   "source": [
    "print(simple_sequence)\n",
    "print(tRNA)"
   ]
  },
  {
   "cell_type": "code",
   "execution_count": 12,
   "id": "fcde343f",
   "metadata": {},
   "outputs": [
    {
     "name": "stdout",
     "output_type": "stream",
     "text": [
      "================================\u001b[1m Human Message \u001b[0m=================================\n",
      "\n",
      "What is a ribonucleic acid (RNA) molecule?\n",
      "\n",
      "\n",
      "==================================\u001b[1m Ai Message \u001b[0m==================================\n",
      "\n",
      "A ribonucleic acid (RNA) molecule is a fundamental biological macromolecule that plays crucial roles in various cellular processes. Here's a comprehensive overview:\n",
      "\n",
      "## Basic Structure\n",
      "\n",
      "RNA is a nucleic acid composed of:\n",
      "- **Ribose sugar** (a 5-carbon sugar with a hydroxyl group on the 2' carbon)\n",
      "- **Phosphate groups** that form the backbone\n",
      "- **Four nitrogenous bases**: Adenine (A), Guanine (G), Cytosine (C), and Uracil (U) - note that RNA contains uracil instead of thymine found in DNA\n",
      "\n",
      "## Key Characteristics\n",
      "\n",
      "1. **Single-stranded**: Unlike DNA, RNA is typically single-stranded, allowing it to fold into complex three-dimensional structures\n",
      "2. **Less stable**: The 2'-OH group makes RNA more chemically reactive and less stable than DNA\n",
      "3. **Shorter**: RNA molecules are generally shorter than DNA molecules\n",
      "\n",
      "## Types of RNA\n",
      "\n",
      "- **Messenger RNA (mRNA)**: Carries genetic information from DNA to ribosomes for protein synthesis\n",
      "- **Transfer RNA (tRNA)**: Brings amino acids to ribosomes during protein synthesis\n",
      "- **Ribosomal RNA (rRNA)**: Structural and catalytic component of ribosomes\n",
      "- **MicroRNA (miRNA)**: Regulates gene expression\n",
      "- **Long non-coding RNA (lncRNA)**: Various regulatory functions\n",
      "- **Small interfering RNA (siRNA)**: Gene silencing mechanism\n",
      "\n",
      "## Functions\n",
      "\n",
      "RNA molecules serve diverse functions including:\n",
      "- Protein synthesis (translation)\n",
      "- Gene regulation\n",
      "- Catalysis (ribozymes)\n",
      "- Structural components of cellular machinery\n",
      "- Information storage (in some viruses)\n",
      "\n",
      "## Evolutionary Significance\n",
      "\n",
      "RNA is believed to have preceded DNA in evolution (the \"RNA World\" hypothesis), as it can both store genetic information and catalyze chemical reactions, making it potentially the first self-replicating molecule.\n",
      "\n",
      "The ability of RNA to form complex secondary and tertiary structures through base pairing and other interactions makes it particularly important in evolutionary studies and structural biology research.\n"
     ]
    }
   ],
   "source": [
    "# Run Inference for the given query\n",
    "\n",
    "query = (\n",
    "    f\"Current tRNA sequence (input): {tRNA}\\n\\n\"\n",
    "    \"Modify this reference sequence by increasing the length of the acceptor stem to **twice its original size**. \"\n",
    "    \"Ensure that **no more than 20%** of the nucleotides are changed or added.\\n\\n\"\n",
    "    \"Keep the rest of the tRNA unchanged.\\n\\n\"\n",
    "    \"Verify the structure and return the modified RNA sequence.\"\n",
    ")\n",
    "\n",
    "query = (\n",
    "    f\"Provide a detailed comparison of the following two RNA molecules: query {simple_sequence} and target {tRNA}.\\n\\n\"\n",
    "    \"1. Run a simple sequence alignment between them.\\n\"\n",
    "    \"2. Analyze and compare their secondary and tertiary structures.\\n\"\n",
    "    \"3. Conduct a comprehensive search of scientific literature to identify known information about these sequences.\\n\"\n",
    "    \"4. Highlight their similarities and differences.\\n\\n\"\n",
    "    \"Provide the output in clearly labeled sections.\"\n",
    ")\n",
    "\n",
    "query = (\n",
    "    f\"What is a ribonucleic acid (RNA) molecule?\\n\\n\"\n",
    ")\n",
    "\n",
    "inputs = {\"messages\": [(\"user\", query)]}\n",
    "print_stream(app.stream(inputs, stream_mode=\"values\"))"
   ]
  },
  {
   "cell_type": "code",
   "execution_count": 13,
   "id": "df10e577",
   "metadata": {},
   "outputs": [
    {
     "ename": "NameError",
     "evalue": "name 'remove' is not defined",
     "output_type": "error",
     "traceback": [
      "\u001b[31m---------------------------------------------------------------------------\u001b[39m",
      "\u001b[31mNameError\u001b[39m                                 Traceback (most recent call last)",
      "\u001b[36mCell\u001b[39m\u001b[36m \u001b[39m\u001b[32mIn[13]\u001b[39m\u001b[32m, line 1\u001b[39m\n\u001b[32m----> \u001b[39m\u001b[32m1\u001b[39m \u001b[43mremove\u001b[49m\n\u001b[32m      2\u001b[39m \u001b[38;5;66;03m# Run this to generate a PDB file from the sequence generated by the ReAct agent, if needed\u001b[39;00m\n\u001b[32m      3\u001b[39m \u001b[38;5;66;03m# Manually plug this sequence in here\u001b[39;00m\n\u001b[32m      5\u001b[39m generatedSequence = \u001b[33m\"\u001b[39m\u001b[33mGCACCGAUAGUCUAGUGGUAGAAAAGGACUUAUCCCUGCCUAGGAUAGAGCCCGGGUUCAAAUCCCGGUGCACCA\u001b[39m\u001b[33m\"\u001b[39m\n",
      "\u001b[31mNameError\u001b[39m: name 'remove' is not defined"
     ]
    }
   ],
   "source": [
    "remove\n",
    "# Run this to generate a PDB file from the sequence generated by the ReAct agent, if needed\n",
    "# Manually plug this sequence in here\n",
    "\n",
    "generatedSequence = \"GCACCGAUAGUCUAGUGGUAGAAAAGGACUUAUCCCUGCCUAGGAUAGAGCCCGGGUUCAAAUCCCGGUGCACCA\"\n",
    "\n",
    "import lib.fasta_utils\n",
    "reload(lib.fasta_utils)\n",
    "from lib.fasta_utils import read_single_fasta, write_single_fasta\n",
    "fasta_generatedSequence = input_dir + \"tRNAgenerated\" + \".fasta\"\n",
    "write_single_fasta(header=\"seq\", sequence=generatedSequence, filepath=fasta_generatedSequence)\n",
    "\n",
    "print(\"- Calculating PDB from FASTA\") \n",
    "pdb_path = fasta2pdb(source_path = fasta_generatedSequence)\n",
    "# The PDB file is in the same directory as the FASTA file"
   ]
  },
  {
   "cell_type": "code",
   "execution_count": null,
   "id": "5d0e848d",
   "metadata": {},
   "outputs": [],
   "source": [
    "fasta_file_next"
   ]
  }
 ],
 "metadata": {
  "kernelspec": {
   "display_name": "rna_agents",
   "language": "python",
   "name": "python3"
  },
  "language_info": {
   "codemirror_mode": {
    "name": "ipython",
    "version": 3
   },
   "file_extension": ".py",
   "mimetype": "text/x-python",
   "name": "python",
   "nbconvert_exporter": "python",
   "pygments_lexer": "ipython3",
   "version": "3.11.11"
  }
 },
 "nbformat": 4,
 "nbformat_minor": 5
}
